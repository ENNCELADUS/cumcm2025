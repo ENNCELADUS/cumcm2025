{
  "cells": [
    {
      "cell_type": "markdown",
      "metadata": {},
      "source": [
        "# NIPT Data Exploration\n",
        "\n",
        "This notebook provides initial data exploration for the NIPT analysis project.\n",
        "\n",
        "## Objectives\n",
        "1. Load and examine the raw data structure\n",
        "2. Understand data quality and missing values\n",
        "3. Explore distributions of key variables\n",
        "4. Identify patterns and relationships\n",
        "5. Prepare data for subsequent analyses\n"
      ]
    },
    {
      "cell_type": "code",
      "execution_count": null,
      "metadata": {},
      "outputs": [],
      "source": [
        "import sys\n",
        "import pandas as pd\n",
        "import numpy as np\n",
        "import matplotlib.pyplot as plt\n",
        "import seaborn as sns\n",
        "\n",
        "# Add src to path for imports\n",
        "sys.path.append('..')\n",
        "\n",
        "from data import NIPTDataLoader\n",
        "from utils import NIPTVisualizer, StatisticalAnalyzer\n",
        "from config.settings import AnalysisConfig\n",
        "\n",
        "# Configure display options\n",
        "pd.set_option('display.max_columns', None)\n",
        "plt.style.use('default')\n",
        "sns.set_palette(\"husl\")\n",
        "\n",
        "print(\"Libraries imported successfully!\")\n"
      ]
    }
  ],
  "metadata": {
    "language_info": {
      "name": "python"
    }
  },
  "nbformat": 4,
  "nbformat_minor": 2
}
